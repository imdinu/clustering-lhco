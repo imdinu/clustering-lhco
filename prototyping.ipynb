{
 "cells": [
  {
   "cell_type": "code",
   "execution_count": 13,
   "source": [
    "import pandas as pd\n",
    "\n",
    "data = pd.read_hdf('../../data/events_anomalydetection.h5', start=0, stop=10_000).to_numpy()\n",
    "data, truth_bit = data[:, :-1], data[:, -1]"
   ],
   "outputs": [],
   "metadata": {}
  },
  {
   "cell_type": "code",
   "execution_count": 1,
   "source": [
    "import pandas as pd\n",
    "import matplotlib as plt\n",
    "import sys\n",
    "\n",
    "print(sys.version_info)\n",
    "df = pd.read_hdf(\"./tmp/scalars_bkg01.h5\")"
   ],
   "outputs": [
    {
     "output_type": "stream",
     "name": "stdout",
     "text": [
      "sys.version_info(major=3, minor=8, micro=10, releaselevel='final', serial=0)\n"
     ]
    }
   ],
   "metadata": {}
  },
  {
   "cell_type": "code",
   "execution_count": 3,
   "source": [
    "print(df.shape)\n",
    "df.columns\n"
   ],
   "outputs": [
    {
     "output_type": "stream",
     "name": "stdout",
     "text": [
      "(907, 46)\n"
     ]
    },
    {
     "output_type": "execute_result",
     "data": {
      "text/plain": [
       "Index(['mjj', 'nj', 'nisj_2', 'nesj_2', 'tau1_2', 'tau2_2', 'tau3_2',\n",
       "       'tau32_2', 'tau21_2', 'eRing0_2', 'eRing1_2', 'eRing2_2', 'eRing3_2',\n",
       "       'eRing4_2', 'eRing5_2', 'eRing6_2', 'eRing7_2', 'eRing8_2', 'eRing9_2',\n",
       "       'nisj_1', 'nesj_1', 'tau1_1', 'tau2_1', 'tau3_1', 'tau32_1', 'tau21_1',\n",
       "       'eRing0_1', 'eRing1_1', 'eRing2_1', 'eRing3_1', 'eRing4_1', 'eRing5_1',\n",
       "       'eRing6_1', 'eRing7_1', 'eRing8_1', 'eRing9_1', 'pt_2', 'eta_2',\n",
       "       'phi_2', 'mass_2', 'e_2', 'pt_1', 'eta_1', 'phi_1', 'mass_1', 'e_1'],\n",
       "      dtype='object')"
      ]
     },
     "metadata": {},
     "execution_count": 3
    }
   ],
   "metadata": {}
  },
  {
   "cell_type": "code",
   "execution_count": 3,
   "source": [
    "import numpy as np\n",
    "\n",
    "x = np.array([1, 10, 100, 1_000, 10_000, 100_000])\n",
    "\n",
    "y_new1 = np.array([0.5645, 0.5441, 0.7290, 2.823, 22.857, 223.814])\n",
    "y_new1_err = np.array([0.0138, 0.0162, 0.0082, 0.135, 0.664, 2.284])\n",
    "\n",
    "y_new5 = np.array([0.485, 0.7574, 0.7984, 1.372, 6.744, 63.748])\n",
    "y_new5_err = np.array([0.0254, 0.0152, 0.034, 0.072, 0.268, 1.340])\n",
    "\n",
    "y_old1 = np.array([0.610, 0.7071, 1.207, 6.789, 67.479, 673.336])\n",
    "y_old1_err = np.array([0.0151, 0.0183, 0.042, 0.385, 0.718, 20.229])\n",
    "\n",
    "y_old5 = np.array([0.6033, 0.868, 1.138, 2.360, 16.373, 165.224])\n",
    "y_old5_err = np.array([0.0301, 0.0609, 0.047, 0.075, 0.234, 1.730])"
   ],
   "outputs": [],
   "metadata": {}
  },
  {
   "cell_type": "code",
   "execution_count": 5,
   "source": [
    "import plotly.graph_objects as go\n",
    "import plotly.io as pio \n",
    "pio.templates.default = \"presentation\"\n",
    "\n",
    "fig = go.Figure()\n",
    "\n",
    "\n",
    "fig.add_trace(go.Scatter(x=x,\n",
    "        y=y_old1,\n",
    "        line=dict(color='darkorange'),\n",
    "        mode='lines', name=\"Old 1 core\"))\n",
    "\n",
    "fig.add_trace(go.Scatter(x=np.hstack([x, x[::-1]]),\n",
    "        y=np.hstack([y_old1+y_old1_err, (y_old1-y_old1_err)[::-1]]),\n",
    "        fill='toself',\n",
    "        fillcolor='rgba(255,208,151,0.2)',\n",
    "        line=dict(color='rgba(255,255,255,0)'),\n",
    "        hoverinfo=\"skip\",\n",
    "        showlegend=False))\n",
    "\n",
    "fig.add_trace(go.Scatter(x=x,\n",
    "        y=y_old5,\n",
    "        line=dict(color='tomato'),\n",
    "        mode='lines', name=\"Old 5 core\"))\n",
    "\n",
    "fig.add_trace(go.Scatter(x=np.hstack([x, x[::-1]]),\n",
    "        y=np.hstack([y_old5+y_old5_err, (y_old5-y_old5_err)[::-1]]),\n",
    "        fill='toself',\n",
    "        fillcolor='rgba(255,127,80,0.2)',\n",
    "        line=dict(color='rgba(255,255,255,0)'),\n",
    "        hoverinfo=\"skip\",\n",
    "        showlegend=False))\n",
    "\n",
    "fig.add_trace(go.Scatter(x=x,\n",
    "        y=y_new1,\n",
    "        line=dict(color='mediumseagreen'),\n",
    "        mode='lines', name=\"New 1 core\"))\n",
    "\n",
    "fig.add_trace(go.Scatter(x=np.hstack([x, x[::-1]]),\n",
    "        y=np.hstack([y_new1+y_new1_err, (y_new1-y_new1_err)[::-1]]),\n",
    "        fill='toself',\n",
    "        fillcolor='rgba(0,100,80,0.2)',\n",
    "        line=dict(color='rgba(255,255,255,0)'),\n",
    "        hoverinfo=\"skip\",\n",
    "        showlegend=False))\n",
    "\n",
    "fig.add_trace(go.Scatter(x=x,\n",
    "        y=y_new5,\n",
    "        line=dict(color='dodgerblue'),\n",
    "        mode='lines', name=\"New 5 core\"))\n",
    "\n",
    "fig.add_trace(go.Scatter(x=np.hstack([x, x[::-1]]),\n",
    "        y=np.hstack([y_new5+y_new5_err, (y_new5-y_new5_err)[::-1]]),\n",
    "        fill='toself',\n",
    "        fillcolor='rgba(0,191,255,0.2)',\n",
    "        line=dict(color='rgba(255,255,255,0)'),\n",
    "        hoverinfo=\"skip\",\n",
    "        showlegend=False))\n",
    "\n",
    "fig.update_xaxes(type=\"log\")\n",
    "fig.update_yaxes(type=\"log\")\n",
    "fig.update_layout(\n",
    "        title=\"Clustering Benchmarks\",\n",
    "        xaxis_title=\"N events\",\n",
    "        yaxis_title=\"Time [s]\",\n",
    "        paper_bgcolor='rgba(0,0,0,0)',\n",
    "                legend = dict(x=0, y=1,\n",
    "                traceorder='normal',\n",
    "                font=dict(size=15)),\n",
    "        width=700, showlegend=True)\n",
    "\n",
    "fig.show(\"svg\")\n",
    "fig.write_image(\"benchmark.pdf\")"
   ],
   "outputs": [
    {
     "output_type": "display_data",
     "data": {
      "image/svg+xml": "<svg class=\"main-svg\" xmlns=\"http://www.w3.org/2000/svg\" xmlns:xlink=\"http://www.w3.org/1999/xlink\" width=\"700\" height=\"450\" style=\"\" viewBox=\"0 0 700 450\"><rect x=\"0\" y=\"0\" width=\"700\" height=\"450\" style=\"fill: rgb(0, 0, 0); fill-opacity: 0;\"/><defs id=\"defs-6e64d0\"><g class=\"clips\"><clipPath id=\"clip6e64d0xyplot\" class=\"plotclip\"><rect width=\"540\" height=\"270\"/></clipPath><clipPath class=\"axesclip\" id=\"clip6e64d0x\"><rect x=\"80\" y=\"0\" width=\"540\" height=\"450\"/></clipPath><clipPath class=\"axesclip\" id=\"clip6e64d0y\"><rect x=\"0\" y=\"100\" width=\"700\" height=\"270\"/></clipPath><clipPath class=\"axesclip\" id=\"clip6e64d0xy\"><rect x=\"80\" y=\"100\" width=\"540\" height=\"270\"/></clipPath></g><g class=\"gradients\"/></defs><g class=\"bglayer\"><rect class=\"bg\" x=\"80\" y=\"100\" width=\"540\" height=\"270\" style=\"fill: rgb(255, 255, 255); fill-opacity: 1; stroke-width: 0;\"/></g><g class=\"layer-below\"><g class=\"imagelayer\"/><g class=\"shapelayer\"/></g><g class=\"cartesianlayer\"><g class=\"subplot xy\"><g class=\"layer-subplot\"><g class=\"shapelayer\"/><g class=\"imagelayer\"/></g><g class=\"gridlayer\"><g class=\"x\"><path class=\"xgrid crisp\" transform=\"translate(112.63,0)\" d=\"M0,100v270\" style=\"stroke: rgb(238, 238, 238); stroke-opacity: 1; stroke-width: 1px;\"/><path class=\"xgrid crisp\" transform=\"translate(207.57999999999998,0)\" d=\"M0,100v270\" style=\"stroke: rgb(238, 238, 238); stroke-opacity: 1; stroke-width: 1px;\"/><path class=\"xgrid crisp\" transform=\"translate(302.53,0)\" d=\"M0,100v270\" style=\"stroke: rgb(238, 238, 238); stroke-opacity: 1; stroke-width: 1px;\"/><path class=\"xgrid crisp\" transform=\"translate(397.48,0)\" d=\"M0,100v270\" style=\"stroke: rgb(238, 238, 238); stroke-opacity: 1; stroke-width: 1px;\"/><path class=\"xgrid crisp\" transform=\"translate(492.43,0)\" d=\"M0,100v270\" style=\"stroke: rgb(238, 238, 238); stroke-opacity: 1; stroke-width: 1px;\"/><path class=\"xgrid crisp\" transform=\"translate(587.38,0)\" d=\"M0,100v270\" style=\"stroke: rgb(238, 238, 238); stroke-opacity: 1; stroke-width: 1px;\"/></g><g class=\"y\"><path class=\"ygrid crisp\" transform=\"translate(0,348.21000000000004)\" d=\"M80,0h540\" style=\"stroke: rgb(238, 238, 238); stroke-opacity: 1; stroke-width: 1px;\"/><path class=\"ygrid crisp\" transform=\"translate(0,326.26)\" d=\"M80,0h540\" style=\"stroke: rgb(238, 238, 238); stroke-opacity: 1; stroke-width: 1px;\"/><path class=\"ygrid crisp\" transform=\"translate(0,304.31)\" d=\"M80,0h540\" style=\"stroke: rgb(238, 238, 238); stroke-opacity: 1; stroke-width: 1px;\"/><path class=\"ygrid crisp\" transform=\"translate(0,275.3)\" d=\"M80,0h540\" style=\"stroke: rgb(238, 238, 238); stroke-opacity: 1; stroke-width: 1px;\"/><path class=\"ygrid crisp\" transform=\"translate(0,253.35)\" d=\"M80,0h540\" style=\"stroke: rgb(238, 238, 238); stroke-opacity: 1; stroke-width: 1px;\"/><path class=\"ygrid crisp\" transform=\"translate(0,231.41)\" d=\"M80,0h540\" style=\"stroke: rgb(238, 238, 238); stroke-opacity: 1; stroke-width: 1px;\"/><path class=\"ygrid crisp\" transform=\"translate(0,202.39)\" d=\"M80,0h540\" style=\"stroke: rgb(238, 238, 238); stroke-opacity: 1; stroke-width: 1px;\"/><path class=\"ygrid crisp\" transform=\"translate(0,180.45)\" d=\"M80,0h540\" style=\"stroke: rgb(238, 238, 238); stroke-opacity: 1; stroke-width: 1px;\"/><path class=\"ygrid crisp\" transform=\"translate(0,158.5)\" d=\"M80,0h540\" style=\"stroke: rgb(238, 238, 238); stroke-opacity: 1; stroke-width: 1px;\"/><path class=\"ygrid crisp\" transform=\"translate(0,129.49)\" d=\"M80,0h540\" style=\"stroke: rgb(238, 238, 238); stroke-opacity: 1; stroke-width: 1px;\"/><path class=\"ygrid crisp\" transform=\"translate(0,107.54)\" d=\"M80,0h540\" style=\"stroke: rgb(238, 238, 238); stroke-opacity: 1; stroke-width: 1px;\"/></g></g><g class=\"zerolinelayer\"/><path class=\"xlines-below\"/><path class=\"ylines-below\"/><g class=\"overlines-below\"/><g class=\"xaxislayer-below\"/><g class=\"yaxislayer-below\"/><g class=\"overaxes-below\"/><g class=\"plot\" transform=\"translate(80,100)\" clip-path=\"url('#clip6e64d0xyplot')\"><g class=\"scatterlayer mlayer\"><g class=\"trace scatter trace524776\" style=\"stroke-miterlimit: 2; opacity: 1;\"><g class=\"fills\"/><g class=\"errorbars\"/><g class=\"lines\"><path class=\"js-line\" d=\"M32.63,241.91L127.58,237.23L222.53,220.3L317.47,165.62L412.43,92.9L507.38,20.06\" style=\"vector-effect: non-scaling-stroke; fill: none; stroke: rgb(255, 140, 0); stroke-opacity: 1; stroke-width: 3px; opacity: 1;\"/></g><g class=\"points\"/><g class=\"text\"/></g><g class=\"trace scatter tracea1d921\" style=\"stroke-miterlimit: 2; opacity: 1;\"><g class=\"fills\"><g><path class=\"js-fill\" d=\"M32.63,241.14L127.58,236.43L222.53,219.22L317.47,163.87L412.43,92.57L507.38,19.13L507.38,21.03L412.43,93.24L317.47,167.46L222.53,221.42L127.58,238.06L32.63,242.7Z\" style=\"fill: rgb(255, 208, 151); fill-opacity: 0.2; stroke-width: 0;\"/></g></g><g class=\"errorbars\"/><g class=\"lines\"><path class=\"js-line\" d=\"M32.63,241.14L127.58,236.43L222.53,219.22L317.47,163.87L412.43,92.57L507.38,19.13L507.38,21.03L412.43,93.24L317.47,167.46L222.53,221.42L127.58,238.06L32.63,242.7\" style=\"vector-effect: non-scaling-stroke; fill: none; stroke: rgb(255, 255, 255); stroke-opacity: 0; stroke-width: 3px; opacity: 1;\"/></g><g class=\"points\"><path class=\"point\" transform=\"translate(32.63,241.14)\" d=\"M4.5,0A4.5,4.5 0 1,1 0,-4.5A4.5,4.5 0 0,1 4.5,0Z\" style=\"opacity: 1; stroke-width: 0px; fill: rgb(255, 255, 255); fill-opacity: 0;\"/><path class=\"point\" transform=\"translate(127.58,236.43)\" d=\"M4.5,0A4.5,4.5 0 1,1 0,-4.5A4.5,4.5 0 0,1 4.5,0Z\" style=\"opacity: 1; stroke-width: 0px; fill: rgb(255, 255, 255); fill-opacity: 0;\"/><path class=\"point\" transform=\"translate(222.53,219.22)\" d=\"M4.5,0A4.5,4.5 0 1,1 0,-4.5A4.5,4.5 0 0,1 4.5,0Z\" style=\"opacity: 1; stroke-width: 0px; fill: rgb(255, 255, 255); fill-opacity: 0;\"/><path class=\"point\" transform=\"translate(317.47,163.87)\" d=\"M4.5,0A4.5,4.5 0 1,1 0,-4.5A4.5,4.5 0 0,1 4.5,0Z\" style=\"opacity: 1; stroke-width: 0px; fill: rgb(255, 255, 255); fill-opacity: 0;\"/><path class=\"point\" transform=\"translate(412.43,92.57)\" d=\"M4.5,0A4.5,4.5 0 1,1 0,-4.5A4.5,4.5 0 0,1 4.5,0Z\" style=\"opacity: 1; stroke-width: 0px; fill: rgb(255, 255, 255); fill-opacity: 0;\"/><path class=\"point\" transform=\"translate(507.38,19.13)\" d=\"M4.5,0A4.5,4.5 0 1,1 0,-4.5A4.5,4.5 0 0,1 4.5,0Z\" style=\"opacity: 1; stroke-width: 0px; fill: rgb(255, 255, 255); fill-opacity: 0;\"/><path class=\"point\" transform=\"translate(507.38,21.03)\" d=\"M4.5,0A4.5,4.5 0 1,1 0,-4.5A4.5,4.5 0 0,1 4.5,0Z\" style=\"opacity: 1; stroke-width: 0px; fill: rgb(255, 255, 255); fill-opacity: 0;\"/><path class=\"point\" transform=\"translate(412.43,93.24)\" d=\"M4.5,0A4.5,4.5 0 1,1 0,-4.5A4.5,4.5 0 0,1 4.5,0Z\" style=\"opacity: 1; stroke-width: 0px; fill: rgb(255, 255, 255); fill-opacity: 0;\"/><path class=\"point\" transform=\"translate(317.47,167.46)\" d=\"M4.5,0A4.5,4.5 0 1,1 0,-4.5A4.5,4.5 0 0,1 4.5,0Z\" style=\"opacity: 1; stroke-width: 0px; fill: rgb(255, 255, 255); fill-opacity: 0;\"/><path class=\"point\" transform=\"translate(222.53,221.42)\" d=\"M4.5,0A4.5,4.5 0 1,1 0,-4.5A4.5,4.5 0 0,1 4.5,0Z\" style=\"opacity: 1; stroke-width: 0px; fill: rgb(255, 255, 255); fill-opacity: 0;\"/><path class=\"point\" transform=\"translate(127.58,238.06)\" d=\"M4.5,0A4.5,4.5 0 1,1 0,-4.5A4.5,4.5 0 0,1 4.5,0Z\" style=\"opacity: 1; stroke-width: 0px; fill: rgb(255, 255, 255); fill-opacity: 0;\"/><path class=\"point\" transform=\"translate(32.63,242.7)\" d=\"M4.5,0A4.5,4.5 0 1,1 0,-4.5A4.5,4.5 0 0,1 4.5,0Z\" style=\"opacity: 1; stroke-width: 0px; fill: rgb(255, 255, 255); fill-opacity: 0;\"/></g><g class=\"text\"/></g><g class=\"trace scatter trace029ec3\" style=\"stroke-miterlimit: 2; opacity: 1;\"><g class=\"fills\"/><g class=\"errorbars\"/><g class=\"lines\"><path class=\"js-line\" d=\"M32.63,242.26L127.58,230.74L222.53,222.17L317.47,199.07L412.43,137.74L507.38,64.55\" style=\"vector-effect: non-scaling-stroke; fill: none; stroke: rgb(255, 99, 71); stroke-opacity: 1; stroke-width: 3px; opacity: 1;\"/></g><g class=\"points\"/><g class=\"text\"/></g><g class=\"trace scatter traced07030\" style=\"stroke-miterlimit: 2; opacity: 1;\"><g class=\"fills\"><g><path class=\"js-fill\" d=\"M32.63,240.72L127.58,228.6L222.53,220.89L317.47,198.08L412.43,137.29L507.38,64.22L412.43,138.2L317.47,200.09L222.53,223.5L127.58,233.05L32.63,243.88Z\" style=\"fill: rgb(255, 127, 80); fill-opacity: 0.2; stroke-width: 0;\"/></g></g><g class=\"errorbars\"/><g class=\"lines\"><path class=\"js-line\" d=\"M32.63,240.72L127.58,228.6L222.53,220.89L317.47,198.08L412.43,137.29L507.38,64.22L412.43,138.2L317.47,200.09L222.53,223.5L127.58,233.05L32.63,243.88\" style=\"vector-effect: non-scaling-stroke; fill: none; stroke: rgb(255, 255, 255); stroke-opacity: 0; stroke-width: 3px; opacity: 1;\"/></g><g class=\"points\"><path class=\"point\" transform=\"translate(32.63,240.72)\" d=\"M4.5,0A4.5,4.5 0 1,1 0,-4.5A4.5,4.5 0 0,1 4.5,0Z\" style=\"opacity: 1; stroke-width: 0px; fill: rgb(255, 255, 255); fill-opacity: 0;\"/><path class=\"point\" transform=\"translate(127.58,228.6)\" d=\"M4.5,0A4.5,4.5 0 1,1 0,-4.5A4.5,4.5 0 0,1 4.5,0Z\" style=\"opacity: 1; stroke-width: 0px; fill: rgb(255, 255, 255); fill-opacity: 0;\"/><path class=\"point\" transform=\"translate(222.53,220.89)\" d=\"M4.5,0A4.5,4.5 0 1,1 0,-4.5A4.5,4.5 0 0,1 4.5,0Z\" style=\"opacity: 1; stroke-width: 0px; fill: rgb(255, 255, 255); fill-opacity: 0;\"/><path class=\"point\" transform=\"translate(317.47,198.08)\" d=\"M4.5,0A4.5,4.5 0 1,1 0,-4.5A4.5,4.5 0 0,1 4.5,0Z\" style=\"opacity: 1; stroke-width: 0px; fill: rgb(255, 255, 255); fill-opacity: 0;\"/><path class=\"point\" transform=\"translate(412.43,137.29)\" d=\"M4.5,0A4.5,4.5 0 1,1 0,-4.5A4.5,4.5 0 0,1 4.5,0Z\" style=\"opacity: 1; stroke-width: 0px; fill: rgb(255, 255, 255); fill-opacity: 0;\"/><path class=\"point\" transform=\"translate(507.38,64.22)\" d=\"M4.5,0A4.5,4.5 0 1,1 0,-4.5A4.5,4.5 0 0,1 4.5,0Z\" style=\"opacity: 1; stroke-width: 0px; fill: rgb(255, 255, 255); fill-opacity: 0;\"/><path class=\"point\" transform=\"translate(507.38,64.88)\" d=\"M4.5,0A4.5,4.5 0 1,1 0,-4.5A4.5,4.5 0 0,1 4.5,0Z\" style=\"opacity: 1; stroke-width: 0px; fill: rgb(255, 255, 255); fill-opacity: 0;\"/><path class=\"point\" transform=\"translate(412.43,138.2)\" d=\"M4.5,0A4.5,4.5 0 1,1 0,-4.5A4.5,4.5 0 0,1 4.5,0Z\" style=\"opacity: 1; stroke-width: 0px; fill: rgb(255, 255, 255); fill-opacity: 0;\"/><path class=\"point\" transform=\"translate(317.47,200.09)\" d=\"M4.5,0A4.5,4.5 0 1,1 0,-4.5A4.5,4.5 0 0,1 4.5,0Z\" style=\"opacity: 1; stroke-width: 0px; fill: rgb(255, 255, 255); fill-opacity: 0;\"/><path class=\"point\" transform=\"translate(222.53,223.5)\" d=\"M4.5,0A4.5,4.5 0 1,1 0,-4.5A4.5,4.5 0 0,1 4.5,0Z\" style=\"opacity: 1; stroke-width: 0px; fill: rgb(255, 255, 255); fill-opacity: 0;\"/><path class=\"point\" transform=\"translate(127.58,233.05)\" d=\"M4.5,0A4.5,4.5 0 1,1 0,-4.5A4.5,4.5 0 0,1 4.5,0Z\" style=\"opacity: 1; stroke-width: 0px; fill: rgb(255, 255, 255); fill-opacity: 0;\"/><path class=\"point\" transform=\"translate(32.63,243.88)\" d=\"M4.5,0A4.5,4.5 0 1,1 0,-4.5A4.5,4.5 0 0,1 4.5,0Z\" style=\"opacity: 1; stroke-width: 0px; fill: rgb(255, 255, 255); fill-opacity: 0;\"/></g><g class=\"text\"/></g><g class=\"trace scatter tracecb1d48\" style=\"stroke-miterlimit: 2; opacity: 1;\"><g class=\"fills\"/><g class=\"errorbars\"/><g class=\"lines\"><path class=\"js-line\" d=\"M32.63,244.37L127.58,245.53L222.53,236.27L317.47,193.4L412.43,127.18L507.38,54.94\" style=\"vector-effect: non-scaling-stroke; fill: none; stroke: rgb(60, 179, 113); stroke-opacity: 1; stroke-width: 3px; opacity: 1;\"/></g><g class=\"points\"/><g class=\"text\"/></g><g class=\"trace scatter trace68814d\" style=\"stroke-miterlimit: 2; opacity: 1;\"><g class=\"fills\"><g><path class=\"js-fill\" d=\"M32.63,243.6L127.58,244.6L222.53,235.91L317.47,191.92L412.43,126.27L507.38,54.62L507.38,55.26L412.43,128.11L317.47,194.95L222.53,236.63L127.58,246.49L32.63,245.15Z\" style=\"fill: rgb(0, 100, 80); fill-opacity: 0.2; stroke-width: 0;\"/></g></g><g class=\"errorbars\"/><g class=\"lines\"><path class=\"js-line\" d=\"M32.63,243.6L127.58,244.6L222.53,235.91L317.47,191.92L412.43,126.27L507.38,54.62L507.38,55.26L412.43,128.11L317.47,194.95L222.53,236.63L127.58,246.49L32.63,245.15\" style=\"vector-effect: non-scaling-stroke; fill: none; stroke: rgb(255, 255, 255); stroke-opacity: 0; stroke-width: 3px; opacity: 1;\"/></g><g class=\"points\"><path class=\"point\" transform=\"translate(32.63,243.6)\" d=\"M4.5,0A4.5,4.5 0 1,1 0,-4.5A4.5,4.5 0 0,1 4.5,0Z\" style=\"opacity: 1; stroke-width: 0px; fill: rgb(255, 255, 255); fill-opacity: 0;\"/><path class=\"point\" transform=\"translate(127.58,244.6)\" d=\"M4.5,0A4.5,4.5 0 1,1 0,-4.5A4.5,4.5 0 0,1 4.5,0Z\" style=\"opacity: 1; stroke-width: 0px; fill: rgb(255, 255, 255); fill-opacity: 0;\"/><path class=\"point\" transform=\"translate(222.53,235.91)\" d=\"M4.5,0A4.5,4.5 0 1,1 0,-4.5A4.5,4.5 0 0,1 4.5,0Z\" style=\"opacity: 1; stroke-width: 0px; fill: rgb(255, 255, 255); fill-opacity: 0;\"/><path class=\"point\" transform=\"translate(317.47,191.92)\" d=\"M4.5,0A4.5,4.5 0 1,1 0,-4.5A4.5,4.5 0 0,1 4.5,0Z\" style=\"opacity: 1; stroke-width: 0px; fill: rgb(255, 255, 255); fill-opacity: 0;\"/><path class=\"point\" transform=\"translate(412.43,126.27)\" d=\"M4.5,0A4.5,4.5 0 1,1 0,-4.5A4.5,4.5 0 0,1 4.5,0Z\" style=\"opacity: 1; stroke-width: 0px; fill: rgb(255, 255, 255); fill-opacity: 0;\"/><path class=\"point\" transform=\"translate(507.38,54.62)\" d=\"M4.5,0A4.5,4.5 0 1,1 0,-4.5A4.5,4.5 0 0,1 4.5,0Z\" style=\"opacity: 1; stroke-width: 0px; fill: rgb(255, 255, 255); fill-opacity: 0;\"/><path class=\"point\" transform=\"translate(507.38,55.26)\" d=\"M4.5,0A4.5,4.5 0 1,1 0,-4.5A4.5,4.5 0 0,1 4.5,0Z\" style=\"opacity: 1; stroke-width: 0px; fill: rgb(255, 255, 255); fill-opacity: 0;\"/><path class=\"point\" transform=\"translate(412.43,128.11)\" d=\"M4.5,0A4.5,4.5 0 1,1 0,-4.5A4.5,4.5 0 0,1 4.5,0Z\" style=\"opacity: 1; stroke-width: 0px; fill: rgb(255, 255, 255); fill-opacity: 0;\"/><path class=\"point\" transform=\"translate(317.47,194.95)\" d=\"M4.5,0A4.5,4.5 0 1,1 0,-4.5A4.5,4.5 0 0,1 4.5,0Z\" style=\"opacity: 1; stroke-width: 0px; fill: rgb(255, 255, 255); fill-opacity: 0;\"/><path class=\"point\" transform=\"translate(222.53,236.63)\" d=\"M4.5,0A4.5,4.5 0 1,1 0,-4.5A4.5,4.5 0 0,1 4.5,0Z\" style=\"opacity: 1; stroke-width: 0px; fill: rgb(255, 255, 255); fill-opacity: 0;\"/><path class=\"point\" transform=\"translate(127.58,246.49)\" d=\"M4.5,0A4.5,4.5 0 1,1 0,-4.5A4.5,4.5 0 0,1 4.5,0Z\" style=\"opacity: 1; stroke-width: 0px; fill: rgb(255, 255, 255); fill-opacity: 0;\"/><path class=\"point\" transform=\"translate(32.63,245.15)\" d=\"M4.5,0A4.5,4.5 0 1,1 0,-4.5A4.5,4.5 0 0,1 4.5,0Z\" style=\"opacity: 1; stroke-width: 0px; fill: rgb(255, 255, 255); fill-opacity: 0;\"/></g><g class=\"text\"/></g><g class=\"trace scatter trace99f265\" style=\"stroke-miterlimit: 2; opacity: 1;\"><g class=\"fills\"/><g class=\"errorbars\"/><g class=\"lines\"><path class=\"js-line\" d=\"M32.63,249.17L127.58,235.06L222.53,233.39L317.47,216.25L412.43,165.83L507.38,94.7\" style=\"vector-effect: non-scaling-stroke; fill: none; stroke: rgb(30, 144, 255); stroke-opacity: 1; stroke-width: 3px; opacity: 1;\"/></g><g class=\"points\"/><g class=\"text\"/></g><g class=\"trace scatter trace63f8d9\" style=\"stroke-miterlimit: 2; opacity: 1;\"><g class=\"fills\"><g><path class=\"js-fill\" d=\"M32.63,247.56L127.58,234.43L222.53,232.07L317.47,214.63L412.43,164.59L507.38,94.04L507.38,95.37L412.43,167.11L317.47,217.95L222.53,234.77L127.58,235.7L32.63,250.88Z\" style=\"fill: rgb(0, 191, 255); fill-opacity: 0.2; stroke-width: 0;\"/></g></g><g class=\"errorbars\"/><g class=\"lines\"><path class=\"js-line\" d=\"M32.63,247.56L127.58,234.43L222.53,232.07L317.47,214.63L412.43,164.59L507.38,94.04L507.38,95.37L412.43,167.11L317.47,217.95L222.53,234.77L127.58,235.7L32.63,250.88\" style=\"vector-effect: non-scaling-stroke; fill: none; stroke: rgb(255, 255, 255); stroke-opacity: 0; stroke-width: 3px; opacity: 1;\"/></g><g class=\"points\"><path class=\"point\" transform=\"translate(32.63,247.56)\" d=\"M4.5,0A4.5,4.5 0 1,1 0,-4.5A4.5,4.5 0 0,1 4.5,0Z\" style=\"opacity: 1; stroke-width: 0px; fill: rgb(255, 255, 255); fill-opacity: 0;\"/><path class=\"point\" transform=\"translate(127.58,234.43)\" d=\"M4.5,0A4.5,4.5 0 1,1 0,-4.5A4.5,4.5 0 0,1 4.5,0Z\" style=\"opacity: 1; stroke-width: 0px; fill: rgb(255, 255, 255); fill-opacity: 0;\"/><path class=\"point\" transform=\"translate(222.53,232.07)\" d=\"M4.5,0A4.5,4.5 0 1,1 0,-4.5A4.5,4.5 0 0,1 4.5,0Z\" style=\"opacity: 1; stroke-width: 0px; fill: rgb(255, 255, 255); fill-opacity: 0;\"/><path class=\"point\" transform=\"translate(317.47,214.63)\" d=\"M4.5,0A4.5,4.5 0 1,1 0,-4.5A4.5,4.5 0 0,1 4.5,0Z\" style=\"opacity: 1; stroke-width: 0px; fill: rgb(255, 255, 255); fill-opacity: 0;\"/><path class=\"point\" transform=\"translate(412.43,164.59)\" d=\"M4.5,0A4.5,4.5 0 1,1 0,-4.5A4.5,4.5 0 0,1 4.5,0Z\" style=\"opacity: 1; stroke-width: 0px; fill: rgb(255, 255, 255); fill-opacity: 0;\"/><path class=\"point\" transform=\"translate(507.38,94.04)\" d=\"M4.5,0A4.5,4.5 0 1,1 0,-4.5A4.5,4.5 0 0,1 4.5,0Z\" style=\"opacity: 1; stroke-width: 0px; fill: rgb(255, 255, 255); fill-opacity: 0;\"/><path class=\"point\" transform=\"translate(507.38,95.37)\" d=\"M4.5,0A4.5,4.5 0 1,1 0,-4.5A4.5,4.5 0 0,1 4.5,0Z\" style=\"opacity: 1; stroke-width: 0px; fill: rgb(255, 255, 255); fill-opacity: 0;\"/><path class=\"point\" transform=\"translate(412.43,167.11)\" d=\"M4.5,0A4.5,4.5 0 1,1 0,-4.5A4.5,4.5 0 0,1 4.5,0Z\" style=\"opacity: 1; stroke-width: 0px; fill: rgb(255, 255, 255); fill-opacity: 0;\"/><path class=\"point\" transform=\"translate(317.47,217.95)\" d=\"M4.5,0A4.5,4.5 0 1,1 0,-4.5A4.5,4.5 0 0,1 4.5,0Z\" style=\"opacity: 1; stroke-width: 0px; fill: rgb(255, 255, 255); fill-opacity: 0;\"/><path class=\"point\" transform=\"translate(222.53,234.77)\" d=\"M4.5,0A4.5,4.5 0 1,1 0,-4.5A4.5,4.5 0 0,1 4.5,0Z\" style=\"opacity: 1; stroke-width: 0px; fill: rgb(255, 255, 255); fill-opacity: 0;\"/><path class=\"point\" transform=\"translate(127.58,235.7)\" d=\"M4.5,0A4.5,4.5 0 1,1 0,-4.5A4.5,4.5 0 0,1 4.5,0Z\" style=\"opacity: 1; stroke-width: 0px; fill: rgb(255, 255, 255); fill-opacity: 0;\"/><path class=\"point\" transform=\"translate(32.63,250.88)\" d=\"M4.5,0A4.5,4.5 0 1,1 0,-4.5A4.5,4.5 0 0,1 4.5,0Z\" style=\"opacity: 1; stroke-width: 0px; fill: rgb(255, 255, 255); fill-opacity: 0;\"/></g><g class=\"text\"/></g></g></g><g class=\"overplot\"/><path class=\"xlines-above crisp\" d=\"M0,0\" style=\"fill: none;\"/><path class=\"ylines-above crisp\" d=\"M0,0\" style=\"fill: none;\"/><g class=\"overlines-above\"/><g class=\"xaxislayer-above\"><g class=\"xtick\"><text text-anchor=\"middle\" x=\"0\" y=\"389\" transform=\"translate(112.63,0)\" style=\"font-family: 'Open Sans', verdana, arial, sans-serif; font-size: 18px; fill: rgb(68, 68, 68); fill-opacity: 1; white-space: pre;\">1</text></g><g class=\"xtick\"><text text-anchor=\"middle\" x=\"0\" y=\"389\" transform=\"translate(207.57999999999998,0)\" style=\"font-family: 'Open Sans', verdana, arial, sans-serif; font-size: 18px; fill: rgb(68, 68, 68); fill-opacity: 1; white-space: pre;\">10</text></g><g class=\"xtick\"><text text-anchor=\"middle\" x=\"0\" y=\"389\" transform=\"translate(302.53,0)\" style=\"font-family: 'Open Sans', verdana, arial, sans-serif; font-size: 18px; fill: rgb(68, 68, 68); fill-opacity: 1; white-space: pre;\">100</text></g><g class=\"xtick\"><text text-anchor=\"middle\" x=\"0\" y=\"389\" transform=\"translate(397.48,0)\" style=\"font-family: 'Open Sans', verdana, arial, sans-serif; font-size: 18px; fill: rgb(68, 68, 68); fill-opacity: 1; white-space: pre;\">1000</text></g><g class=\"xtick\"><text text-anchor=\"middle\" x=\"0\" y=\"389\" transform=\"translate(492.43,0)\" style=\"font-family: 'Open Sans', verdana, arial, sans-serif; font-size: 18px; fill: rgb(68, 68, 68); fill-opacity: 1; white-space: pre;\">10k</text></g><g class=\"xtick\"><text text-anchor=\"middle\" x=\"0\" y=\"389\" transform=\"translate(587.38,0)\" style=\"font-family: 'Open Sans', verdana, arial, sans-serif; font-size: 18px; fill: rgb(68, 68, 68); fill-opacity: 1; white-space: pre;\">100k</text></g></g><g class=\"yaxislayer-above\"><g class=\"ytick\"><text text-anchor=\"end\" x=\"79\" y=\"4.725\" transform=\"translate(0,348.21000000000004)\" style=\"font-family: 'Open Sans', verdana, arial, sans-serif; font-size: 13.5px; fill: rgb(68, 68, 68); fill-opacity: 1; white-space: pre;\">5</text></g><g class=\"ytick\"><text text-anchor=\"end\" x=\"79\" y=\"6.3\" transform=\"translate(0,326.26)\" style=\"font-family: 'Open Sans', verdana, arial, sans-serif; font-size: 18px; fill: rgb(68, 68, 68); fill-opacity: 1; white-space: pre;\">1</text></g><g class=\"ytick\"><text text-anchor=\"end\" x=\"79\" y=\"4.725\" transform=\"translate(0,304.31)\" style=\"font-family: 'Open Sans', verdana, arial, sans-serif; font-size: 13.5px; fill: rgb(68, 68, 68); fill-opacity: 1; white-space: pre;\">2</text></g><g class=\"ytick\"><text text-anchor=\"end\" x=\"79\" y=\"4.725\" transform=\"translate(0,275.3)\" style=\"font-family: 'Open Sans', verdana, arial, sans-serif; font-size: 13.5px; fill: rgb(68, 68, 68); fill-opacity: 1; white-space: pre;\">5</text></g><g class=\"ytick\"><text text-anchor=\"end\" x=\"79\" y=\"6.3\" transform=\"translate(0,253.35)\" style=\"font-family: 'Open Sans', verdana, arial, sans-serif; font-size: 18px; fill: rgb(68, 68, 68); fill-opacity: 1; white-space: pre;\">10</text></g><g class=\"ytick\"><text text-anchor=\"end\" x=\"79\" y=\"4.725\" transform=\"translate(0,231.41)\" style=\"font-family: 'Open Sans', verdana, arial, sans-serif; font-size: 13.5px; fill: rgb(68, 68, 68); fill-opacity: 1; white-space: pre;\">2</text></g><g class=\"ytick\"><text text-anchor=\"end\" x=\"79\" y=\"4.725\" transform=\"translate(0,202.39)\" style=\"font-family: 'Open Sans', verdana, arial, sans-serif; font-size: 13.5px; fill: rgb(68, 68, 68); fill-opacity: 1; white-space: pre;\">5</text></g><g class=\"ytick\"><text text-anchor=\"end\" x=\"79\" y=\"6.3\" transform=\"translate(0,180.45)\" style=\"font-family: 'Open Sans', verdana, arial, sans-serif; font-size: 18px; fill: rgb(68, 68, 68); fill-opacity: 1; white-space: pre;\">100</text></g><g class=\"ytick\"><text text-anchor=\"end\" x=\"79\" y=\"4.725\" transform=\"translate(0,158.5)\" style=\"font-family: 'Open Sans', verdana, arial, sans-serif; font-size: 13.5px; fill: rgb(68, 68, 68); fill-opacity: 1; white-space: pre;\">2</text></g><g class=\"ytick\"><text text-anchor=\"end\" x=\"79\" y=\"4.725\" transform=\"translate(0,129.49)\" style=\"font-family: 'Open Sans', verdana, arial, sans-serif; font-size: 13.5px; fill: rgb(68, 68, 68); fill-opacity: 1; white-space: pre;\">5</text></g><g class=\"ytick\"><text text-anchor=\"end\" x=\"79\" y=\"6.3\" transform=\"translate(0,107.54)\" style=\"font-family: 'Open Sans', verdana, arial, sans-serif; font-size: 18px; fill: rgb(68, 68, 68); fill-opacity: 1; white-space: pre;\">1000</text></g></g><g class=\"overaxes-above\"/></g></g><g class=\"polarlayer\"/><g class=\"ternarylayer\"/><g class=\"geolayer\"/><g class=\"funnelarealayer\"/><g class=\"pielayer\"/><g class=\"treemaplayer\"/><g class=\"sunburstlayer\"/><g class=\"glimages\"/><defs id=\"topdefs-6e64d0\"><g class=\"clips\"/><clipPath id=\"legend6e64d0\"><rect width=\"124\" height=\"100\" x=\"0\" y=\"0\"/></clipPath></defs><g class=\"layer-above\"><g class=\"imagelayer\"/><g class=\"shapelayer\"/></g><g class=\"infolayer\"><g class=\"legend\" pointer-events=\"all\" transform=\"translate(80,100)\"><rect class=\"bg\" shape-rendering=\"crispEdges\" width=\"124\" height=\"100\" x=\"0\" y=\"0\" style=\"stroke: rgb(68, 68, 68); stroke-opacity: 1; fill: rgb(0, 0, 0); fill-opacity: 0; stroke-width: 0px;\"/><g class=\"scrollbox\" transform=\"\" clip-path=\"url('#legend6e64d0')\"><g class=\"groups\"><g class=\"traces\" transform=\"translate(0,16.25)\" style=\"opacity: 1;\"><text class=\"legendtext\" text-anchor=\"start\" x=\"40\" y=\"5.85\" style=\"font-family: 'Open Sans', verdana, arial, sans-serif; font-size: 15px; fill: rgb(68, 68, 68); fill-opacity: 1; white-space: pre;\">Old 1 core</text><g class=\"layers\" style=\"opacity: 1;\"><g class=\"legendfill\"/><g class=\"legendlines\"><path class=\"js-line\" d=\"M5,0h30\" style=\"fill: none; stroke: rgb(255, 140, 0); stroke-opacity: 1; stroke-width: 3px;\"/></g><g class=\"legendsymbols\"><g class=\"legendpoints\"/></g></g><rect class=\"legendtoggle\" x=\"0\" y=\"-11.25\" width=\"118.515625\" height=\"22.5\" style=\"fill: rgb(0, 0, 0); fill-opacity: 0;\"/></g><g class=\"traces\" transform=\"translate(0,38.75)\" style=\"opacity: 1;\"><text class=\"legendtext\" text-anchor=\"start\" x=\"40\" y=\"5.85\" style=\"font-family: 'Open Sans', verdana, arial, sans-serif; font-size: 15px; fill: rgb(68, 68, 68); fill-opacity: 1; white-space: pre;\">Old 5 core</text><g class=\"layers\" style=\"opacity: 1;\"><g class=\"legendfill\"/><g class=\"legendlines\"><path class=\"js-line\" d=\"M5,0h30\" style=\"fill: none; stroke: rgb(255, 99, 71); stroke-opacity: 1; stroke-width: 3px;\"/></g><g class=\"legendsymbols\"><g class=\"legendpoints\"/></g></g><rect class=\"legendtoggle\" x=\"0\" y=\"-11.25\" width=\"118.515625\" height=\"22.5\" style=\"fill: rgb(0, 0, 0); fill-opacity: 0;\"/></g><g class=\"traces\" transform=\"translate(0,61.25)\" style=\"opacity: 1;\"><text class=\"legendtext\" text-anchor=\"start\" x=\"40\" y=\"5.85\" style=\"font-family: 'Open Sans', verdana, arial, sans-serif; font-size: 15px; fill: rgb(68, 68, 68); fill-opacity: 1; white-space: pre;\">New 1 core</text><g class=\"layers\" style=\"opacity: 1;\"><g class=\"legendfill\"/><g class=\"legendlines\"><path class=\"js-line\" d=\"M5,0h30\" style=\"fill: none; stroke: rgb(60, 179, 113); stroke-opacity: 1; stroke-width: 3px;\"/></g><g class=\"legendsymbols\"><g class=\"legendpoints\"/></g></g><rect class=\"legendtoggle\" x=\"0\" y=\"-11.25\" width=\"118.515625\" height=\"22.5\" style=\"fill: rgb(0, 0, 0); fill-opacity: 0;\"/></g><g class=\"traces\" transform=\"translate(0,83.75)\" style=\"opacity: 1;\"><text class=\"legendtext\" text-anchor=\"start\" x=\"40\" y=\"5.85\" style=\"font-family: 'Open Sans', verdana, arial, sans-serif; font-size: 15px; fill: rgb(68, 68, 68); fill-opacity: 1; white-space: pre;\">New 5 core</text><g class=\"layers\" style=\"opacity: 1;\"><g class=\"legendfill\"/><g class=\"legendlines\"><path class=\"js-line\" d=\"M5,0h30\" style=\"fill: none; stroke: rgb(30, 144, 255); stroke-opacity: 1; stroke-width: 3px;\"/></g><g class=\"legendsymbols\"><g class=\"legendpoints\"/></g></g><rect class=\"legendtoggle\" x=\"0\" y=\"-11.25\" width=\"118.515625\" height=\"22.5\" style=\"fill: rgb(0, 0, 0); fill-opacity: 0;\"/></g></g></g><rect class=\"scrollbar\" rx=\"20\" ry=\"3\" width=\"0\" height=\"0\" x=\"0\" y=\"0\" style=\"fill: rgb(128, 139, 164); fill-opacity: 1;\"/></g><g class=\"g-gtitle\"><text class=\"gtitle\" x=\"350\" y=\"50\" text-anchor=\"middle\" dy=\"0em\" style=\"font-family: 'Open Sans', verdana, arial, sans-serif; font-size: 25px; fill: rgb(68, 68, 68); opacity: 1; font-weight: normal; white-space: pre;\">Clustering Benchmarks</text></g><g class=\"g-xtitle\"><text class=\"xtitle\" x=\"350\" y=\"423.9\" text-anchor=\"middle\" style=\"font-family: 'Open Sans', verdana, arial, sans-serif; font-size: 22px; fill: rgb(68, 68, 68); opacity: 1; font-weight: normal; white-space: pre;\">N events</text></g><g class=\"g-ytitle\" transform=\"translate(16.072265625,0)\"><text class=\"ytitle\" transform=\"rotate(-90,7.928124999999994,235)\" x=\"7.928124999999994\" y=\"235\" text-anchor=\"middle\" style=\"font-family: 'Open Sans', verdana, arial, sans-serif; font-size: 22px; fill: rgb(68, 68, 68); opacity: 1; font-weight: normal; white-space: pre;\">Time [s]</text></g></g></svg>"
     },
     "metadata": {}
    }
   ],
   "metadata": {}
  },
  {
   "cell_type": "code",
   "execution_count": 6,
   "source": [
    "import pandas as pd\n",
    "from scipy.stats import entropy\n",
    "from plotly.subplots import make_subplots\n"
   ],
   "outputs": [],
   "metadata": {}
  },
  {
   "cell_type": "code",
   "execution_count": 9,
   "source": [
    "cols  = ['pt_1', 'eta_1', 'phi_1', 'e_1', 'mass_1', 'nisj_1', 'nesj_1', 'tau1_1', 'tau2_1', 'tau3_1', 'tau32_1', 'tau21_1', \n",
    "         'pt_2', 'eta_2', 'phi_2', 'e_2', 'mass_2', 'nisj_2', 'nesj_2', 'tau1_2', 'tau2_2', 'tau3_2', 'tau32_2', 'tau21_2',\n",
    "         'eRing0_1', 'eRing1_1', 'eRing2_1', 'eRing3_1', 'eRing4_1', 'eRing5_1', 'eRing6_1', 'eRing7_1', 'eRing8_1', 'eRing9_1',\n",
    "         'eRing0_2', 'eRing1_2', 'eRing2_2', 'eRing3_2', 'eRing4_2', 'eRing5_2', 'eRing6_2', 'eRing7_2', 'eRing8_2', 'eRing9_2'\n",
    "         ]\n",
    "\n",
    "def optimal_grid(n):\n",
    "    rows = np.floor(np.sqrt(n))\n",
    "    residual = 1 if n%rows != 0 else 0\n",
    "    cols = n//rows + residual\n",
    "    return int(rows), int(cols)\n",
    "\n",
    "\n",
    "def features_plot(old, new,\n",
    "                  bins: int = 20):\n",
    "\n",
    "    rows, cols = optimal_grid(new.shape[1])\n",
    "    labels  = ['pt_1', 'eta_1', 'phi_1', 'e_1', 'mass_1', 'nisj_1', 'nesj_1', 'tau1_1', 'tau2_1', 'tau3_1', 'tau32_1', 'tau21_1', \n",
    "         'pt_2', 'eta_2', 'phi_2', 'e_2', 'mass_2', 'nisj_2', 'nesj_2', 'tau1_2', 'tau2_2', 'tau3_2', 'tau32_2', 'tau21_2',\n",
    "         'eRing0_1', 'eRing1_1', 'eRing2_1', 'eRing3_1', 'eRing4_1', 'eRing5_1', 'eRing6_1', 'eRing7_1', 'eRing8_1', 'eRing9_1',\n",
    "         'eRing0_2', 'eRing1_2', 'eRing2_2', 'eRing3_2', 'eRing4_2', 'eRing5_2', 'eRing6_2', 'eRing7_2', 'eRing8_2', 'eRing9_2'\n",
    "         ]\n",
    "    data = {'true':[], 'sample':[], 'bins':[], 'kl':[]}\n",
    "    for i in range(new.shape[1]):\n",
    "        x1 = np.clip(old[:,i], np.percentile(old[:,i], 1), np.percentile(old[:,i], 99))\n",
    "        x2 = np.clip(new[:,i], np.percentile(new[:,i], 1), np.percentile(new[:,i], 99))\n",
    "        n1, b = np.histogram(x1, bins=bins, density=True)\n",
    "        n2, _ = np.histogram(x2, bins=b, density=True)\n",
    "        kl=f\"{labels[i]} (kl={entropy(n1, n2):.2f})\"\n",
    "        data['bins'].append(b[:-1])\n",
    "        data['true'].append(n1)\n",
    "        data['sample'].append(n2)\n",
    "        data['kl'].append(kl)\n",
    "    fig = make_subplots(rows=rows, cols=cols, subplot_titles=data['kl'])\n",
    "    for i in range(new.shape[1]):\n",
    "        fig.add_trace(go.Bar(x=data['bins'][i], y=data['true'][i],\n",
    "                name='Old Clustering', marker_color='steelblue',\n",
    "                showlegend=(i==0)),\n",
    "            row=i//cols+1, col=i%cols+1\n",
    "            )\n",
    "        fig.add_trace(go.Bar(x=data['bins'][i], y=data['sample'][i],\n",
    "                name='New Clustering', marker_color='coral',\n",
    "                showlegend=(i==0)),\n",
    "            row=i//cols+1, col=i%cols+1\n",
    "            )\n",
    "        # fig.update_xaxes(title_text=labels[i], ticklabelposition=\"inside top\",\n",
    "        #                 row=i//cols+1, col=i%cols+1, tickfont=dict(size=5))\n",
    "    fig.update_yaxes(showticklabels=False,)\n",
    "    fig.update_xaxes(tickfont=dict(size=9))\n",
    "    fig.update_layout(\n",
    "            bargap=0,showlegend=False,\n",
    "            height=500, title=\"Clustering Validation\",\n",
    "            width=1000,\n",
    "            paper_bgcolor='rgba(0,0,0,0)',\n",
    "                legend = dict(x=0, y=1,\n",
    "                traceorder='normal',\n",
    "                font=dict(size=15)),)\n",
    "    return fig"
   ],
   "outputs": [],
   "metadata": {}
  },
  {
   "cell_type": "code",
   "execution_count": 7,
   "source": [
    "c = list(new_bkg.columns)\n"
   ],
   "outputs": [
    {
     "output_type": "error",
     "ename": "NameError",
     "evalue": "name 'new_bkg' is not defined",
     "traceback": [
      "\u001b[0;31m----------------------------------------------------\u001b[0m",
      "\u001b[0;31mNameError\u001b[0m          Traceback (most recent call last)",
      "\u001b[0;32m<ipython-input-7-885b7fe0cbaf>\u001b[0m in \u001b[0;36m<module>\u001b[0;34m\u001b[0m\n\u001b[0;32m----> 1\u001b[0;31m \u001b[0mc\u001b[0m \u001b[0;34m=\u001b[0m \u001b[0mlist\u001b[0m\u001b[0;34m(\u001b[0m\u001b[0mnew_bkg\u001b[0m\u001b[0;34m.\u001b[0m\u001b[0mcolumns\u001b[0m\u001b[0;34m)\u001b[0m\u001b[0;34m\u001b[0m\u001b[0;34m\u001b[0m\u001b[0m\n\u001b[0m",
      "\u001b[0;31mNameError\u001b[0m: name 'new_bkg' is not defined"
     ]
    }
   ],
   "metadata": {}
  },
  {
   "cell_type": "code",
   "execution_count": 8,
   "source": [
    "old_bkg.columns"
   ],
   "outputs": [
    {
     "output_type": "error",
     "ename": "NameError",
     "evalue": "name 'old_bkg' is not defined",
     "traceback": [
      "\u001b[0;31m----------------------------------------------------\u001b[0m",
      "\u001b[0;31mNameError\u001b[0m          Traceback (most recent call last)",
      "\u001b[0;32m<ipython-input-8-d3be7a909a7e>\u001b[0m in \u001b[0;36m<module>\u001b[0;34m\u001b[0m\n\u001b[0;32m----> 1\u001b[0;31m \u001b[0mold_bkg\u001b[0m\u001b[0;34m.\u001b[0m\u001b[0mcolumns\u001b[0m\u001b[0;34m\u001b[0m\u001b[0;34m\u001b[0m\u001b[0m\n\u001b[0m",
      "\u001b[0;31mNameError\u001b[0m: name 'old_bkg' is not defined"
     ]
    }
   ],
   "metadata": {}
  },
  {
   "cell_type": "code",
   "execution_count": 8,
   "source": [
    "new_bkg = pd.read_hdf(\"scalars_bkg.h5\")[cols]\n",
    "old_bkg = pd.read_hdf(\"bkgHLF_merged.h5\")\n",
    "old_bkg.drop([\"nc1\", \"nc2\", \"mjjj\", \"mjj\", \"nj\", 'eRing0_3', 'eRing1_3',\n",
    "       'eRing2_3', 'eRing3_3', 'eRing4_3', 'eRing5_3', 'eRing6_3', 'eRing7_3',\n",
    "       'eRing8_3', 'eRing9_3', 'pt3', 'eta3',\n",
    "       'phi3', 'E3', 'm3', 'nc3', 'nisj3', 'nesj3', '1tau3', '2tau3', '3tau3',\n",
    "       '32tau3', '21tau3'], 1, inplace=True)\n",
    "\n",
    "new_bkg.replace([np.inf, -np.inf], 0, inplace=True)\n",
    "old_bkg.replace([np.inf, -np.inf], 0, inplace=True)"
   ],
   "outputs": [
    {
     "output_type": "error",
     "ename": "FileNotFoundError",
     "evalue": "File scalars_bkg.h5 does not exist",
     "traceback": [
      "\u001b[0;31m----------------------------------------------------\u001b[0m",
      "\u001b[0;31mFileNotFoundError\u001b[0m  Traceback (most recent call last)",
      "\u001b[0;32m<ipython-input-8-a01415aaafb7>\u001b[0m in \u001b[0;36m<module>\u001b[0;34m\u001b[0m\n\u001b[0;32m----> 1\u001b[0;31m \u001b[0mnew_bkg\u001b[0m \u001b[0;34m=\u001b[0m \u001b[0mpd\u001b[0m\u001b[0;34m.\u001b[0m\u001b[0mread_hdf\u001b[0m\u001b[0;34m(\u001b[0m\u001b[0;34m\"scalars_bkg.h5\"\u001b[0m\u001b[0;34m)\u001b[0m\u001b[0;34m[\u001b[0m\u001b[0mcols\u001b[0m\u001b[0;34m]\u001b[0m\u001b[0;34m\u001b[0m\u001b[0;34m\u001b[0m\u001b[0m\n\u001b[0m\u001b[1;32m      2\u001b[0m \u001b[0mold_bkg\u001b[0m \u001b[0;34m=\u001b[0m \u001b[0mpd\u001b[0m\u001b[0;34m.\u001b[0m\u001b[0mread_hdf\u001b[0m\u001b[0;34m(\u001b[0m\u001b[0;34m\"bkgHLF_merged.h5\"\u001b[0m\u001b[0;34m)\u001b[0m\u001b[0;34m\u001b[0m\u001b[0;34m\u001b[0m\u001b[0m\n\u001b[1;32m      3\u001b[0m old_bkg.drop([\"nc1\", \"nc2\", \"mjjj\", \"mjj\", \"nj\", 'eRing0_3', 'eRing1_3',\n\u001b[1;32m      4\u001b[0m        \u001b[0;34m'eRing2_3'\u001b[0m\u001b[0;34m,\u001b[0m \u001b[0;34m'eRing3_3'\u001b[0m\u001b[0;34m,\u001b[0m \u001b[0;34m'eRing4_3'\u001b[0m\u001b[0;34m,\u001b[0m \u001b[0;34m'eRing5_3'\u001b[0m\u001b[0;34m,\u001b[0m \u001b[0;34m'eRing6_3'\u001b[0m\u001b[0;34m,\u001b[0m \u001b[0;34m'eRing7_3'\u001b[0m\u001b[0;34m,\u001b[0m\u001b[0;34m\u001b[0m\u001b[0;34m\u001b[0m\u001b[0m\n\u001b[1;32m      5\u001b[0m        \u001b[0;34m'eRing8_3'\u001b[0m\u001b[0;34m,\u001b[0m \u001b[0;34m'eRing9_3'\u001b[0m\u001b[0;34m,\u001b[0m \u001b[0;34m'pt3'\u001b[0m\u001b[0;34m,\u001b[0m \u001b[0;34m'eta3'\u001b[0m\u001b[0;34m,\u001b[0m\u001b[0;34m\u001b[0m\u001b[0;34m\u001b[0m\u001b[0m\n",
      "\u001b[0;32m~/.conda/envs/tf-gpu/lib/python3.8/site-packages/pandas/io/pytables.py\u001b[0m in \u001b[0;36mread_hdf\u001b[0;34m(path_or_buf, key, mode, errors, where, start, stop, columns, iterator, chunksize, **kwargs)\u001b[0m\n\u001b[1;32m    395\u001b[0m \u001b[0;34m\u001b[0m\u001b[0m\n\u001b[1;32m    396\u001b[0m         \u001b[0;32mif\u001b[0m \u001b[0;32mnot\u001b[0m \u001b[0mexists\u001b[0m\u001b[0;34m:\u001b[0m\u001b[0;34m\u001b[0m\u001b[0;34m\u001b[0m\u001b[0m\n\u001b[0;32m--> 397\u001b[0;31m             \u001b[0;32mraise\u001b[0m \u001b[0mFileNotFoundError\u001b[0m\u001b[0;34m(\u001b[0m\u001b[0;34mf\"File {path_or_buf} does not exist\"\u001b[0m\u001b[0;34m)\u001b[0m\u001b[0;34m\u001b[0m\u001b[0;34m\u001b[0m\u001b[0m\n\u001b[0m\u001b[1;32m    398\u001b[0m \u001b[0;34m\u001b[0m\u001b[0m\n\u001b[1;32m    399\u001b[0m         \u001b[0mstore\u001b[0m \u001b[0;34m=\u001b[0m \u001b[0mHDFStore\u001b[0m\u001b[0;34m(\u001b[0m\u001b[0mpath_or_buf\u001b[0m\u001b[0;34m,\u001b[0m \u001b[0mmode\u001b[0m\u001b[0;34m=\u001b[0m\u001b[0mmode\u001b[0m\u001b[0;34m,\u001b[0m \u001b[0merrors\u001b[0m\u001b[0;34m=\u001b[0m\u001b[0merrors\u001b[0m\u001b[0;34m,\u001b[0m \u001b[0;34m**\u001b[0m\u001b[0mkwargs\u001b[0m\u001b[0;34m)\u001b[0m\u001b[0;34m\u001b[0m\u001b[0;34m\u001b[0m\u001b[0m\n",
      "\u001b[0;31mFileNotFoundError\u001b[0m: File scalars_bkg.h5 does not exist"
     ]
    }
   ],
   "metadata": {}
  },
  {
   "cell_type": "code",
   "execution_count": 17,
   "source": [
    "!ls ../2jet/"
   ],
   "outputs": [
    {
     "output_type": "stream",
     "name": "stdout",
     "text": [
      "BBOX1  BBOX2  BBOX3  BBOXMC  RnD\r\n"
     ]
    }
   ],
   "metadata": {}
  },
  {
   "cell_type": "code",
   "execution_count": 11,
   "source": [
    "new_bkg.shape\n",
    "old_bkg.shape"
   ],
   "outputs": [
    {
     "output_type": "error",
     "ename": "NameError",
     "evalue": "name 'new_bkg' is not defined",
     "traceback": [
      "\u001b[0;31m----------------------------------------------------\u001b[0m",
      "\u001b[0;31mNameError\u001b[0m          Traceback (most recent call last)",
      "\u001b[0;32m<ipython-input-11-c8369df28378>\u001b[0m in \u001b[0;36m<module>\u001b[0;34m\u001b[0m\n\u001b[0;32m----> 1\u001b[0;31m \u001b[0mnew_bkg\u001b[0m\u001b[0;34m.\u001b[0m\u001b[0mshape\u001b[0m\u001b[0;34m\u001b[0m\u001b[0;34m\u001b[0m\u001b[0m\n\u001b[0m\u001b[1;32m      2\u001b[0m \u001b[0mold_bkg\u001b[0m\u001b[0;34m.\u001b[0m\u001b[0mshape\u001b[0m\u001b[0;34m\u001b[0m\u001b[0;34m\u001b[0m\u001b[0m\n",
      "\u001b[0;31mNameError\u001b[0m: name 'new_bkg' is not defined"
     ]
    }
   ],
   "metadata": {}
  },
  {
   "cell_type": "code",
   "execution_count": 12,
   "source": [
    "fig = features_plot(new_bkg.to_numpy()[:,:24], old_bkg.to_numpy()[:,:24])\n",
    "fig.write_image(\"validation.pdf\")"
   ],
   "outputs": [
    {
     "output_type": "error",
     "ename": "NameError",
     "evalue": "name 'new_bkg' is not defined",
     "traceback": [
      "\u001b[0;31m----------------------------------------------------\u001b[0m",
      "\u001b[0;31mNameError\u001b[0m          Traceback (most recent call last)",
      "\u001b[0;32m<ipython-input-12-d0a8b5985de5>\u001b[0m in \u001b[0;36m<module>\u001b[0;34m\u001b[0m\n\u001b[0;32m----> 1\u001b[0;31m \u001b[0mfig\u001b[0m \u001b[0;34m=\u001b[0m \u001b[0mfeatures_plot\u001b[0m\u001b[0;34m(\u001b[0m\u001b[0mnew_bkg\u001b[0m\u001b[0;34m.\u001b[0m\u001b[0mto_numpy\u001b[0m\u001b[0;34m(\u001b[0m\u001b[0;34m)\u001b[0m\u001b[0;34m[\u001b[0m\u001b[0;34m:\u001b[0m\u001b[0;34m,\u001b[0m\u001b[0;34m:\u001b[0m\u001b[0;36m24\u001b[0m\u001b[0;34m]\u001b[0m\u001b[0;34m,\u001b[0m \u001b[0mold_bkg\u001b[0m\u001b[0;34m.\u001b[0m\u001b[0mto_numpy\u001b[0m\u001b[0;34m(\u001b[0m\u001b[0;34m)\u001b[0m\u001b[0;34m[\u001b[0m\u001b[0;34m:\u001b[0m\u001b[0;34m,\u001b[0m\u001b[0;34m:\u001b[0m\u001b[0;36m24\u001b[0m\u001b[0;34m]\u001b[0m\u001b[0;34m)\u001b[0m\u001b[0;34m\u001b[0m\u001b[0;34m\u001b[0m\u001b[0m\n\u001b[0m\u001b[1;32m      2\u001b[0m \u001b[0mfig\u001b[0m\u001b[0;34m.\u001b[0m\u001b[0mwrite_image\u001b[0m\u001b[0;34m(\u001b[0m\u001b[0;34m\"validation.pdf\"\u001b[0m\u001b[0;34m)\u001b[0m\u001b[0;34m\u001b[0m\u001b[0;34m\u001b[0m\u001b[0m\n",
      "\u001b[0;31mNameError\u001b[0m: name 'new_bkg' is not defined"
     ]
    }
   ],
   "metadata": {}
  },
  {
   "cell_type": "code",
   "execution_count": 13,
   "source": [
    "new_bkg[\"nesj_1\"]"
   ],
   "outputs": [
    {
     "output_type": "error",
     "ename": "NameError",
     "evalue": "name 'new_bkg' is not defined",
     "traceback": [
      "\u001b[0;31m----------------------------------------------------\u001b[0m",
      "\u001b[0;31mNameError\u001b[0m          Traceback (most recent call last)",
      "\u001b[0;32m<ipython-input-13-c37a382d7b83>\u001b[0m in \u001b[0;36m<module>\u001b[0;34m\u001b[0m\n\u001b[0;32m----> 1\u001b[0;31m \u001b[0mnew_bkg\u001b[0m\u001b[0;34m[\u001b[0m\u001b[0;34m\"nesj_1\"\u001b[0m\u001b[0;34m]\u001b[0m\u001b[0;34m\u001b[0m\u001b[0;34m\u001b[0m\u001b[0m\n\u001b[0m",
      "\u001b[0;31mNameError\u001b[0m: name 'new_bkg' is not defined"
     ]
    }
   ],
   "metadata": {}
  },
  {
   "cell_type": "code",
   "execution_count": 14,
   "source": [
    "from itertools import chain, combinations\n",
    "\n",
    "def powerset(iterable):\n",
    "    \"powerset([1,2,3]) --> () (1,) (2,) (3,) (1,2) (1,3) (2,3) (1,2,3)\"\n",
    "    s = list(iterable)\n",
    "    return chain.from_iterable(combinations(s, r) for r in range(2, len(s)+1))"
   ],
   "outputs": [],
   "metadata": {}
  },
  {
   "cell_type": "code",
   "execution_count": 4,
   "source": [
    "df = pd.read_hdf(\"./tiny_data.h5\")"
   ],
   "outputs": [],
   "metadata": {}
  },
  {
   "cell_type": "code",
   "execution_count": 5,
   "source": [
    "b = {\"q\":1}\n",
    "a = {\"t\":10}\n",
    "\n",
    "a.update(b)\n",
    "\n",
    "print(a.update(b))"
   ],
   "outputs": [
    {
     "output_type": "stream",
     "name": "stdout",
     "text": [
      "None\n"
     ]
    }
   ],
   "metadata": {}
  },
  {
   "cell_type": "code",
   "execution_count": 4,
   "source": [
    "b = {\"q\":1}\n",
    "a = {\"t\":10}.update(b)\n",
    "\n",
    "print(a)"
   ],
   "outputs": [
    {
     "output_type": "stream",
     "name": "stdout",
     "text": [
      "None\n"
     ]
    }
   ],
   "metadata": {}
  },
  {
   "cell_type": "code",
   "execution_count": 16,
   "source": [
    "import numpy as np\n",
    "import pandas as pd\n",
    "from LHCO import download_file\n",
    "\n",
    "feat = pd.read_hdf(\"download/RnD_features.h5\")\n",
    "df =  pd.read_hdf(\"download/results_scalars_bkg.h5\")[[\"tau21_1\", \"tau32_1\"]]"
   ],
   "outputs": [],
   "metadata": {}
  },
  {
   "cell_type": "code",
   "execution_count": 17,
   "source": [
    "feat[\"tau2j1\"]/feat[\"tau1j1\"]"
   ],
   "outputs": [
    {
     "output_type": "execute_result",
     "data": {
      "text/plain": [
       "0          0.583317\n",
       "1          0.519086\n",
       "2          0.789584\n",
       "3          0.277956\n",
       "4          0.577303\n",
       "             ...   \n",
       "1099995    0.225403\n",
       "1099996    0.271544\n",
       "1099997    0.166132\n",
       "1099998    0.153972\n",
       "1099999    0.797727\n",
       "Length: 1100000, dtype: float64"
      ]
     },
     "metadata": {},
     "execution_count": 17
    }
   ],
   "metadata": {}
  },
  {
   "cell_type": "code",
   "execution_count": 18,
   "source": [
    "df.head(10)"
   ],
   "outputs": [
    {
     "output_type": "execute_result",
     "data": {
      "text/plain": [
       "    tau21_1   tau32_1\n",
       "0  0.368840  0.853400\n",
       "1  0.421453  0.477680\n",
       "2  0.253896  0.850517\n",
       "3  0.010222  0.870240\n",
       "4  0.887206  0.924645\n",
       "5  0.284347  0.920714\n",
       "6  0.925198  0.933174\n",
       "7  0.433132  0.681442\n",
       "8  0.856302  1.009731\n",
       "9  0.982870  0.975647"
      ],
      "text/html": [
       "<div>\n",
       "<style scoped>\n",
       "    .dataframe tbody tr th:only-of-type {\n",
       "        vertical-align: middle;\n",
       "    }\n",
       "\n",
       "    .dataframe tbody tr th {\n",
       "        vertical-align: top;\n",
       "    }\n",
       "\n",
       "    .dataframe thead th {\n",
       "        text-align: right;\n",
       "    }\n",
       "</style>\n",
       "<table border=\"1\" class=\"dataframe\">\n",
       "  <thead>\n",
       "    <tr style=\"text-align: right;\">\n",
       "      <th></th>\n",
       "      <th>tau21_1</th>\n",
       "      <th>tau32_1</th>\n",
       "    </tr>\n",
       "  </thead>\n",
       "  <tbody>\n",
       "    <tr>\n",
       "      <th>0</th>\n",
       "      <td>0.368840</td>\n",
       "      <td>0.853400</td>\n",
       "    </tr>\n",
       "    <tr>\n",
       "      <th>1</th>\n",
       "      <td>0.421453</td>\n",
       "      <td>0.477680</td>\n",
       "    </tr>\n",
       "    <tr>\n",
       "      <th>2</th>\n",
       "      <td>0.253896</td>\n",
       "      <td>0.850517</td>\n",
       "    </tr>\n",
       "    <tr>\n",
       "      <th>3</th>\n",
       "      <td>0.010222</td>\n",
       "      <td>0.870240</td>\n",
       "    </tr>\n",
       "    <tr>\n",
       "      <th>4</th>\n",
       "      <td>0.887206</td>\n",
       "      <td>0.924645</td>\n",
       "    </tr>\n",
       "    <tr>\n",
       "      <th>5</th>\n",
       "      <td>0.284347</td>\n",
       "      <td>0.920714</td>\n",
       "    </tr>\n",
       "    <tr>\n",
       "      <th>6</th>\n",
       "      <td>0.925198</td>\n",
       "      <td>0.933174</td>\n",
       "    </tr>\n",
       "    <tr>\n",
       "      <th>7</th>\n",
       "      <td>0.433132</td>\n",
       "      <td>0.681442</td>\n",
       "    </tr>\n",
       "    <tr>\n",
       "      <th>8</th>\n",
       "      <td>0.856302</td>\n",
       "      <td>1.009731</td>\n",
       "    </tr>\n",
       "    <tr>\n",
       "      <th>9</th>\n",
       "      <td>0.982870</td>\n",
       "      <td>0.975647</td>\n",
       "    </tr>\n",
       "  </tbody>\n",
       "</table>\n",
       "</div>"
      ]
     },
     "metadata": {},
     "execution_count": 18
    }
   ],
   "metadata": {}
  },
  {
   "cell_type": "code",
   "execution_count": null,
   "source": [],
   "outputs": [],
   "metadata": {}
  }
 ],
 "metadata": {
  "interpreter": {
   "hash": "97ac4a05e08133bdd1e490fbb4f09f39df4dc1d91a59e87a1d25d3d6013e5db6"
  },
  "kernelspec": {
   "name": "python3",
   "display_name": "Python 3.8.10 64-bit ('tf-gpu': conda)"
  },
  "language_info": {
   "codemirror_mode": {
    "name": "ipython",
    "version": 3
   },
   "file_extension": ".py",
   "mimetype": "text/x-python",
   "name": "python",
   "nbconvert_exporter": "python",
   "pygments_lexer": "ipython3",
   "version": "3.8.10"
  }
 },
 "nbformat": 4,
 "nbformat_minor": 2
}