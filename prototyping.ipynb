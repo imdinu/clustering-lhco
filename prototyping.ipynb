{
 "cells": [
  {
   "cell_type": "code",
   "execution_count": 13,
   "metadata": {},
   "outputs": [],
   "source": [
    "import pandas as pd\n",
    "\n",
    "data = pd.read_hdf('../../data/events_anomalydetection.h5', start=0, stop=10_000).to_numpy()\n",
    "data, truth_bit = data[:, :-1], data[:, -1]"
   ]
  },
  {
   "cell_type": "code",
   "execution_count": 3,
   "metadata": {},
   "outputs": [
    {
     "name": "stdout",
     "output_type": "stream",
     "text": [
      "sys.version_info(major=3, minor=9, micro=5, releaselevel='final', serial=0)\n"
     ]
    }
   ],
   "source": [
    "import pandas as pd\n",
    "import matplotlib as plt\n",
    "import sys\n",
    "\n",
    "print(sys.version_info)\n",
    "df = pd.read_hdf(\"./tmp/scalars_bkg01.h5\")"
   ]
  },
  {
   "cell_type": "code",
   "execution_count": 4,
   "metadata": {},
   "outputs": [
    {
     "data": {
      "text/plain": [
       "Index(['nisj_2', 'nesj_2', 'tau1_2', 'tau2_2', 'tau3_2', 'tau32_2', 'tau21_2',\n",
       "       'nisj_1', 'nesj_1', 'tau1_1', 'tau2_1', 'tau3_1', 'tau32_1', 'tau21_1',\n",
       "       'pt_2', 'eta_2', 'phi_2', 'mass_2', 'e_2', 'pt_1', 'eta_1', 'phi_1',\n",
       "       'mass_1', 'e_1'],\n",
       "      dtype='object')"
      ]
     },
     "execution_count": 4,
     "metadata": {},
     "output_type": "execute_result"
    }
   ],
   "source": [
    "df.columns"
   ]
  },
  {
   "cell_type": "code",
   "execution_count": 10,
   "metadata": {},
   "outputs": [],
   "source": [
    "import numpy as np\n",
    "\n",
    "x = np.array([1, 10, 100, 1_000, 10_000, 100_000])\n",
    "\n",
    "y_new1 = np.array([0.5645, 0.5441, 0.7290, 2.823, 22.857, 223.814])\n",
    "y_new1_err = np.array([0.0138, 0.0162, 0.0082, 0.135, 0.664, 2.284])\n",
    "\n",
    "y_new5 = np.array([0.485, 0.7574, 0.7984, 1.372, 6.744, 63.748])\n",
    "y_new5_err = np.array([0.0254, 0.0152, 0.034, 0.072, 0.268, 1.340])\n",
    "\n",
    "y_old1 = np.array([0.610, 0.7071, 1.207, 6.789, 67.479, 673.336])\n",
    "y_old1_err = np.array([0.0151, 0.0183, 0.042, 0.385, 0.718, 20.229])\n",
    "\n",
    "y_old5 = np.array([0.6033, 0.868, 1.138, 2.360, 16.373, 165.224])\n",
    "y_old5_err = np.array([0.0301, 0.0609, 0.047, 0.075, 0.234, 1.730])"
   ]
  },
  {
   "cell_type": "code",
   "execution_count": 14,
   "metadata": {},
   "outputs": [
    {
     "data": {
      "application/vnd.plotly.v1+json": {
       "config": {
        "plotlyServerURL": "https://plot.ly"
       },
       "data": [
        {
         "line": {
          "color": "darkorange"
         },
         "mode": "lines",
         "name": "Old 1 core",
         "type": "scatter",
         "x": [
          1,
          10,
          100,
          1000,
          10000,
          100000
         ],
         "y": [
          0.61,
          0.7071,
          1.207,
          6.789,
          67.479,
          673.336
         ]
        },
        {
         "fill": "toself",
         "fillcolor": "rgba(255,208,151,0.2)",
         "hoverinfo": "skip",
         "line": {
          "color": "rgba(255,255,255,0)"
         },
         "showlegend": false,
         "type": "scatter",
         "x": [
          1,
          10,
          100,
          1000,
          10000,
          100000,
          100000,
          10000,
          1000,
          100,
          10,
          1
         ],
         "y": [
          0.6251,
          0.7253999999999999,
          1.249,
          7.1739999999999995,
          68.197,
          693.565,
          653.107,
          66.761,
          6.404,
          1.165,
          0.6888,
          0.5949
         ]
        },
        {
         "line": {
          "color": "tomato"
         },
         "mode": "lines",
         "name": "Old 5 core",
         "type": "scatter",
         "x": [
          1,
          10,
          100,
          1000,
          10000,
          100000
         ],
         "y": [
          0.6033,
          0.868,
          1.138,
          2.36,
          16.373,
          165.224
         ]
        },
        {
         "fill": "toself",
         "fillcolor": "rgba(255,127,80,0.2)",
         "hoverinfo": "skip",
         "line": {
          "color": "rgba(255,255,255,0)"
         },
         "showlegend": false,
         "type": "scatter",
         "x": [
          1,
          10,
          100,
          1000,
          10000,
          100000,
          100000,
          10000,
          1000,
          100,
          10,
          1
         ],
         "y": [
          0.6334,
          0.9289,
          1.1849999999999998,
          2.435,
          16.607000000000003,
          166.95399999999998,
          163.494,
          16.139,
          2.2849999999999997,
          1.091,
          0.8071,
          0.5731999999999999
         ]
        },
        {
         "line": {
          "color": "mediumseagreen"
         },
         "mode": "lines",
         "name": "New 1 core",
         "type": "scatter",
         "x": [
          1,
          10,
          100,
          1000,
          10000,
          100000
         ],
         "y": [
          0.5645,
          0.5441,
          0.729,
          2.823,
          22.857,
          223.814
         ]
        },
        {
         "fill": "toself",
         "fillcolor": "rgba(0,100,80,0.2)",
         "hoverinfo": "skip",
         "line": {
          "color": "rgba(255,255,255,0)"
         },
         "showlegend": false,
         "type": "scatter",
         "x": [
          1,
          10,
          100,
          1000,
          10000,
          100000,
          100000,
          10000,
          1000,
          100,
          10,
          1
         ],
         "y": [
          0.5783,
          0.5603,
          0.7372,
          2.958,
          23.521,
          226.09799999999998,
          221.53,
          22.192999999999998,
          2.6879999999999997,
          0.7208,
          0.5279,
          0.5507
         ]
        },
        {
         "line": {
          "color": "dodgerblue"
         },
         "mode": "lines",
         "name": "New 5 core",
         "type": "scatter",
         "x": [
          1,
          10,
          100,
          1000,
          10000,
          100000
         ],
         "y": [
          0.485,
          0.7574,
          0.7984,
          1.372,
          6.744,
          63.748
         ]
        },
        {
         "fill": "toself",
         "fillcolor": "rgba(0,191,255,0.2)",
         "hoverinfo": "skip",
         "line": {
          "color": "rgba(255,255,255,0)"
         },
         "showlegend": false,
         "type": "scatter",
         "x": [
          1,
          10,
          100,
          1000,
          10000,
          100000,
          100000,
          10000,
          1000,
          100,
          10,
          1
         ],
         "y": [
          0.5104,
          0.7726,
          0.8324,
          1.4440000000000002,
          7.012,
          65.088,
          62.407999999999994,
          6.476,
          1.3,
          0.7644,
          0.7422,
          0.4596
         ]
        }
       ],
       "layout": {
        "legend": {
         "font": {
          "size": 15
         },
         "traceorder": "normal",
         "x": 0,
         "y": 1
        },
        "paper_bgcolor": "rgba(0,0,0,0)",
        "showlegend": true,
        "template": {
         "data": {
          "pie": [
           {
            "automargin": true,
            "type": "pie"
           }
          ],
          "scatter": [
           {
            "line": {
             "width": 3
            },
            "marker": {
             "size": 9
            },
            "type": "scatter"
           }
          ],
          "scatter3d": [
           {
            "line": {
             "width": 3
            },
            "marker": {
             "size": 9
            },
            "type": "scatter3d"
           }
          ],
          "scattergeo": [
           {
            "line": {
             "width": 3
            },
            "marker": {
             "size": 9
            },
            "type": "scattergeo"
           }
          ],
          "scattergl": [
           {
            "line": {
             "width": 3
            },
            "marker": {
             "size": 9
            },
            "type": "scattergl"
           }
          ],
          "scatterpolar": [
           {
            "line": {
             "width": 3
            },
            "marker": {
             "size": 9
            },
            "type": "scatterpolar"
           }
          ],
          "scatterpolargl": [
           {
            "line": {
             "width": 3
            },
            "marker": {
             "size": 9
            },
            "type": "scatterpolargl"
           }
          ],
          "scatterternary": [
           {
            "line": {
             "width": 3
            },
            "marker": {
             "size": 9
            },
            "type": "scatterternary"
           }
          ],
          "table": [
           {
            "cells": {
             "height": 30
            },
            "header": {
             "height": 36
            },
            "type": "table"
           }
          ]
         },
         "layout": {
          "font": {
           "size": 18
          },
          "xaxis": {
           "title": {
            "standoff": 15
           }
          },
          "yaxis": {
           "title": {
            "standoff": 15
           }
          }
         }
        },
        "title": {
         "text": "Clustering Benchmarks"
        },
        "width": 700,
        "xaxis": {
         "title": {
          "text": "N events"
         },
         "type": "log"
        },
        "yaxis": {
         "title": {
          "text": "Time [s]"
         },
         "type": "log"
        }
       }
      }
     },
     "metadata": {},
     "output_type": "display_data"
    }
   ],
   "source": [
    "import plotly.graph_objects as go\n",
    "import plotly.io as pio \n",
    "pio.templates.default = \"presentation\"\n",
    "\n",
    "fig = go.Figure()\n",
    "\n",
    "\n",
    "fig.add_trace(go.Scatter(x=x,\n",
    "        y=y_old1,\n",
    "        line=dict(color='darkorange'),\n",
    "        mode='lines', name=\"Old 1 core\"))\n",
    "\n",
    "fig.add_trace(go.Scatter(x=np.hstack([x, x[::-1]]),\n",
    "        y=np.hstack([y_old1+y_old1_err, (y_old1-y_old1_err)[::-1]]),\n",
    "        fill='toself',\n",
    "        fillcolor='rgba(255,208,151,0.2)',\n",
    "        line=dict(color='rgba(255,255,255,0)'),\n",
    "        hoverinfo=\"skip\",\n",
    "        showlegend=False))\n",
    "\n",
    "fig.add_trace(go.Scatter(x=x,\n",
    "        y=y_old5,\n",
    "        line=dict(color='tomato'),\n",
    "        mode='lines', name=\"Old 5 core\"))\n",
    "\n",
    "fig.add_trace(go.Scatter(x=np.hstack([x, x[::-1]]),\n",
    "        y=np.hstack([y_old5+y_old5_err, (y_old5-y_old5_err)[::-1]]),\n",
    "        fill='toself',\n",
    "        fillcolor='rgba(255,127,80,0.2)',\n",
    "        line=dict(color='rgba(255,255,255,0)'),\n",
    "        hoverinfo=\"skip\",\n",
    "        showlegend=False))\n",
    "\n",
    "fig.add_trace(go.Scatter(x=x,\n",
    "        y=y_new1,\n",
    "        line=dict(color='mediumseagreen'),\n",
    "        mode='lines', name=\"New 1 core\"))\n",
    "\n",
    "fig.add_trace(go.Scatter(x=np.hstack([x, x[::-1]]),\n",
    "        y=np.hstack([y_new1+y_new1_err, (y_new1-y_new1_err)[::-1]]),\n",
    "        fill='toself',\n",
    "        fillcolor='rgba(0,100,80,0.2)',\n",
    "        line=dict(color='rgba(255,255,255,0)'),\n",
    "        hoverinfo=\"skip\",\n",
    "        showlegend=False))\n",
    "\n",
    "fig.add_trace(go.Scatter(x=x,\n",
    "        y=y_new5,\n",
    "        line=dict(color='dodgerblue'),\n",
    "        mode='lines', name=\"New 5 core\"))\n",
    "\n",
    "fig.add_trace(go.Scatter(x=np.hstack([x, x[::-1]]),\n",
    "        y=np.hstack([y_new5+y_new5_err, (y_new5-y_new5_err)[::-1]]),\n",
    "        fill='toself',\n",
    "        fillcolor='rgba(0,191,255,0.2)',\n",
    "        line=dict(color='rgba(255,255,255,0)'),\n",
    "        hoverinfo=\"skip\",\n",
    "        showlegend=False))\n",
    "\n",
    "fig.update_xaxes(type=\"log\")\n",
    "fig.update_yaxes(type=\"log\")\n",
    "fig.update_layout(\n",
    "        title=\"Clustering Benchmarks\",\n",
    "        xaxis_title=\"N events\",\n",
    "        yaxis_title=\"Time [s]\",\n",
    "        paper_bgcolor='rgba(0,0,0,0)',\n",
    "                legend = dict(x=0, y=1,\n",
    "                traceorder='normal',\n",
    "                font=dict(size=15)),\n",
    "        width=700, showlegend=True)\n",
    "\n",
    "fig.show(\"vscode\")\n",
    "fig.write_image(\"benchmark.pdf\")"
   ]
  },
  {
   "cell_type": "code",
   "execution_count": 126,
   "metadata": {},
   "outputs": [],
   "source": [
    "import pandas as pd\n",
    "from scipy.stats import entropy\n",
    "from plotly.subplots import make_subplots\n"
   ]
  },
  {
   "cell_type": "code",
   "execution_count": 301,
   "metadata": {},
   "outputs": [],
   "source": [
    "cols  = ['pt_1', 'eta_1', 'phi_1', 'e_1', 'mass_1', 'nisj_1', 'nesj_1', 'tau1_1', 'tau2_1', 'tau3_1', 'tau32_1', 'tau21_1', \n",
    "         'pt_2', 'eta_2', 'phi_2', 'e_2', 'mass_2', 'nisj_2', 'nesj_2', 'tau1_2', 'tau2_2', 'tau3_2', 'tau32_2', 'tau21_2',\n",
    "         'eRing0_1', 'eRing1_1', 'eRing2_1', 'eRing3_1', 'eRing4_1', 'eRing5_1', 'eRing6_1', 'eRing7_1', 'eRing8_1', 'eRing9_1',\n",
    "         'eRing0_2', 'eRing1_2', 'eRing2_2', 'eRing3_2', 'eRing4_2', 'eRing5_2', 'eRing6_2', 'eRing7_2', 'eRing8_2', 'eRing9_2'\n",
    "         ]\n",
    "\n",
    "def optimal_grid(n):\n",
    "    rows = np.floor(np.sqrt(n))\n",
    "    residual = 1 if n%rows != 0 else 0\n",
    "    cols = n//rows + residual\n",
    "    return int(rows), int(cols)\n",
    "\n",
    "\n",
    "def features_plot(old, new,\n",
    "                  bins: int = 20):\n",
    "\n",
    "    rows, cols = optimal_grid(new.shape[1])\n",
    "    labels  = ['pt_1', 'eta_1', 'phi_1', 'e_1', 'mass_1', 'nisj_1', 'nesj_1', 'tau1_1', 'tau2_1', 'tau3_1', 'tau32_1', 'tau21_1', \n",
    "         'pt_2', 'eta_2', 'phi_2', 'e_2', 'mass_2', 'nisj_2', 'nesj_2', 'tau1_2', 'tau2_2', 'tau3_2', 'tau32_2', 'tau21_2',\n",
    "         'eRing0_1', 'eRing1_1', 'eRing2_1', 'eRing3_1', 'eRing4_1', 'eRing5_1', 'eRing6_1', 'eRing7_1', 'eRing8_1', 'eRing9_1',\n",
    "         'eRing0_2', 'eRing1_2', 'eRing2_2', 'eRing3_2', 'eRing4_2', 'eRing5_2', 'eRing6_2', 'eRing7_2', 'eRing8_2', 'eRing9_2'\n",
    "         ]\n",
    "    data = {'true':[], 'sample':[], 'bins':[], 'kl':[]}\n",
    "    for i in range(new.shape[1]):\n",
    "        x1 = np.clip(old[:,i], np.percentile(old[:,i], 1), np.percentile(old[:,i], 99))\n",
    "        x2 = np.clip(new[:,i], np.percentile(new[:,i], 1), np.percentile(new[:,i], 99))\n",
    "        n1, b = np.histogram(x1, bins=bins, density=True)\n",
    "        n2, _ = np.histogram(x2, bins=b, density=True)\n",
    "        kl=f\"{labels[i]} (kl={entropy(n1, n2):.2f})\"\n",
    "        data['bins'].append(b[:-1])\n",
    "        data['true'].append(n1)\n",
    "        data['sample'].append(n2)\n",
    "        data['kl'].append(kl)\n",
    "    fig = make_subplots(rows=rows, cols=cols, subplot_titles=data['kl'])\n",
    "    for i in range(new.shape[1]):\n",
    "        fig.add_trace(go.Bar(x=data['bins'][i], y=data['true'][i],\n",
    "                name='Old Clustering', marker_color='steelblue',\n",
    "                showlegend=(i==0)),\n",
    "            row=i//cols+1, col=i%cols+1\n",
    "            )\n",
    "        fig.add_trace(go.Bar(x=data['bins'][i], y=data['sample'][i],\n",
    "                name='New Clustering', marker_color='coral',\n",
    "                showlegend=(i==0)),\n",
    "            row=i//cols+1, col=i%cols+1\n",
    "            )\n",
    "        # fig.update_xaxes(title_text=labels[i], ticklabelposition=\"inside top\",\n",
    "        #                 row=i//cols+1, col=i%cols+1, tickfont=dict(size=5))\n",
    "    fig.update_yaxes(showticklabels=False,)\n",
    "    fig.update_xaxes(tickfont=dict(size=9))\n",
    "    fig.update_layout(\n",
    "            bargap=0,showlegend=False,\n",
    "            height=500, title=\"Clustering Validation\",\n",
    "            width=1000,\n",
    "            paper_bgcolor='rgba(0,0,0,0)',\n",
    "                legend = dict(x=0, y=1,\n",
    "                traceorder='normal',\n",
    "                font=dict(size=15)),)\n",
    "    return fig"
   ]
  },
  {
   "cell_type": "code",
   "execution_count": 302,
   "metadata": {},
   "outputs": [],
   "source": [
    "c = list(new_bkg.columns)\n"
   ]
  },
  {
   "cell_type": "code",
   "execution_count": 303,
   "metadata": {},
   "outputs": [
    {
     "data": {
      "text/plain": [
       "Index(['pt1', 'eta1', 'phi1', 'E1', 'm1', 'nisj1', 'nesj1', '1tau1', '2tau1',\n",
       "       '3tau1', '32tau1', '21tau1', 'pt2', 'eta2', 'phi2', 'E2', 'm2', 'nisj2',\n",
       "       'nesj2', '1tau2', '2tau2', '3tau2', '32tau2', '21tau2', 'eRing0_1',\n",
       "       'eRing1_1', 'eRing2_1', 'eRing3_1', 'eRing4_1', 'eRing5_1', 'eRing6_1',\n",
       "       'eRing7_1', 'eRing8_1', 'eRing9_1', 'eRing0_2', 'eRing1_2', 'eRing2_2',\n",
       "       'eRing3_2', 'eRing4_2', 'eRing5_2', 'eRing6_2', 'eRing7_2', 'eRing8_2',\n",
       "       'eRing9_2'],\n",
       "      dtype='object')"
      ]
     },
     "execution_count": 303,
     "metadata": {},
     "output_type": "execute_result"
    }
   ],
   "source": [
    "old_bkg.columns"
   ]
  },
  {
   "cell_type": "code",
   "execution_count": 304,
   "metadata": {},
   "outputs": [],
   "source": [
    "new_bkg = pd.read_hdf(\"scalars_bkg.h5\")[cols]\n",
    "old_bkg = pd.read_hdf(\"bkgHLF_merged.h5\")\n",
    "old_bkg.drop([\"nc1\", \"nc2\", \"mjjj\", \"mjj\", \"nj\", 'eRing0_3', 'eRing1_3',\n",
    "       'eRing2_3', 'eRing3_3', 'eRing4_3', 'eRing5_3', 'eRing6_3', 'eRing7_3',\n",
    "       'eRing8_3', 'eRing9_3', 'pt3', 'eta3',\n",
    "       'phi3', 'E3', 'm3', 'nc3', 'nisj3', 'nesj3', '1tau3', '2tau3', '3tau3',\n",
    "       '32tau3', '21tau3'], 1, inplace=True)\n",
    "\n",
    "new_bkg.replace([np.inf, -np.inf], 0, inplace=True)\n",
    "old_bkg.replace([np.inf, -np.inf], 0, inplace=True)"
   ]
  },
  {
   "cell_type": "code",
   "execution_count": 305,
   "metadata": {},
   "outputs": [
    {
     "data": {
      "text/plain": [
       "Index(['pt1', 'eta1', 'phi1', 'E1', 'm1', 'nisj1', 'nesj1', '1tau1', '2tau1',\n",
       "       '3tau1', '32tau1', '21tau1', 'pt2', 'eta2', 'phi2', 'E2', 'm2', 'nisj2',\n",
       "       'nesj2', '1tau2', '2tau2', '3tau2', '32tau2', '21tau2', 'eRing0_1',\n",
       "       'eRing1_1', 'eRing2_1', 'eRing3_1', 'eRing4_1', 'eRing5_1', 'eRing6_1',\n",
       "       'eRing7_1', 'eRing8_1', 'eRing9_1', 'eRing0_2', 'eRing1_2', 'eRing2_2',\n",
       "       'eRing3_2', 'eRing4_2', 'eRing5_2', 'eRing6_2', 'eRing7_2', 'eRing8_2',\n",
       "       'eRing9_2'],\n",
       "      dtype='object')"
      ]
     },
     "execution_count": 305,
     "metadata": {},
     "output_type": "execute_result"
    }
   ],
   "source": [
    "old_bkg.columns"
   ]
  },
  {
   "cell_type": "code",
   "execution_count": 306,
   "metadata": {},
   "outputs": [
    {
     "data": {
      "text/plain": [
       "(90941, 44)"
      ]
     },
     "execution_count": 306,
     "metadata": {},
     "output_type": "execute_result"
    }
   ],
   "source": [
    "new_bkg.shape\n",
    "old_bkg.shape"
   ]
  },
  {
   "cell_type": "code",
   "execution_count": 307,
   "metadata": {},
   "outputs": [],
   "source": [
    "fig = features_plot(new_bkg.to_numpy()[:,:24], old_bkg.to_numpy()[:,:24])\n",
    "fig.write_image(\"validation.pdf\")"
   ]
  },
  {
   "cell_type": "code",
   "execution_count": 308,
   "metadata": {},
   "outputs": [
    {
     "data": {
      "text/plain": [
       "0         33\n",
       "1         78\n",
       "2        102\n",
       "3         58\n",
       "4        115\n",
       "        ... \n",
       "90936     43\n",
       "90937     28\n",
       "90938     47\n",
       "90939     78\n",
       "90940     69\n",
       "Name: nesj_1, Length: 90941, dtype: int64"
      ]
     },
     "execution_count": 308,
     "metadata": {},
     "output_type": "execute_result"
    }
   ],
   "source": [
    "new_bkg[\"nesj_1\"]"
   ]
  },
  {
   "cell_type": "code",
   "execution_count": 1,
   "metadata": {},
   "outputs": [],
   "source": [
    "from itertools import chain, combinations\n",
    "\n",
    "def powerset(iterable):\n",
    "    \"powerset([1,2,3]) --> () (1,) (2,) (3,) (1,2) (1,3) (2,3) (1,2,3)\"\n",
    "    s = list(iterable)\n",
    "    return chain.from_iterable(combinations(s, r) for r in range(2, len(s)+1))"
   ]
  },
  {
   "cell_type": "code",
   "execution_count": null,
   "metadata": {},
   "outputs": [],
   "source": []
  }
 ],
 "metadata": {
  "interpreter": {
   "hash": "c54dcb49feb1adc8f812ad9c72cfa03fa8121de330c707127d4f2bd30b21b3cd"
  },
  "kernelspec": {
   "display_name": "Python 3.9.5 64-bit ('tf-gpu-qnR-nPlh': pipenv)",
   "name": "python3"
  },
  "language_info": {
   "codemirror_mode": {
    "name": "ipython",
    "version": 3
   },
   "file_extension": ".py",
   "mimetype": "text/x-python",
   "name": "python",
   "nbconvert_exporter": "python",
   "pygments_lexer": "ipython3",
   "version": "3.9.5"
  },
  "orig_nbformat": 2
 },
 "nbformat": 4,
 "nbformat_minor": 2
}